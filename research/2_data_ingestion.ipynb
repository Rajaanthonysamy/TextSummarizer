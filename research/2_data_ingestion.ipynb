{
 "cells": [
  {
   "cell_type": "code",
   "execution_count": 1,
   "id": "e1d81b85",
   "metadata": {},
   "outputs": [
    {
     "data": {
      "text/plain": [
       "'/Users/rajaanthonysamy/my_ml_projects/summarizer/TextSummarizer/research'"
      ]
     },
     "execution_count": 1,
     "metadata": {},
     "output_type": "execute_result"
    }
   ],
   "source": [
    "%pwd"
   ]
  },
  {
   "cell_type": "code",
   "execution_count": 2,
   "id": "f4bca1ee",
   "metadata": {},
   "outputs": [],
   "source": [
    "import os"
   ]
  },
  {
   "cell_type": "code",
   "execution_count": 3,
   "id": "cc27a9df",
   "metadata": {},
   "outputs": [],
   "source": [
    "os.chdir(\"../\")"
   ]
  },
  {
   "cell_type": "code",
   "execution_count": 4,
   "id": "cd369e87",
   "metadata": {},
   "outputs": [
    {
     "data": {
      "text/plain": [
       "'/Users/rajaanthonysamy/my_ml_projects/summarizer/TextSummarizer'"
      ]
     },
     "execution_count": 4,
     "metadata": {},
     "output_type": "execute_result"
    }
   ],
   "source": [
    "%pwd"
   ]
  },
  {
   "cell_type": "code",
   "execution_count": null,
   "id": "6c1c94e0",
   "metadata": {},
   "outputs": [],
   "source": [
    "from dataclasses import dataclass\n",
    "from pathlib import Path\n",
    "\n",
    "@dataclass\n",
    "class DataTransformationConfig:\n",
    "    root_dir: Path \n",
    "    data_path: Path \n",
    "    tokenizer_name: Path"
   ]
  },
  {
   "cell_type": "code",
   "execution_count": 6,
   "id": "3224f7ac",
   "metadata": {},
   "outputs": [],
   "source": [
    "from src.textSummarizer.constants import *\n",
    "from src.textSummarizer.utils.common import read_yaml, create_directories\n",
    "from src.textSummarizer.logging import logger\n"
   ]
  },
  {
   "cell_type": "code",
   "execution_count": 7,
   "id": "80d15c00",
   "metadata": {},
   "outputs": [],
   "source": [
    "class ConfigurationManager:\n",
    "    def __init__(self,\n",
    "                 config_path=CONFIG_FILE_PATH,\n",
    "                 params_filepath=PARAMS_FILE_PATH):\n",
    "        self.config = read_yaml(config_path)\n",
    "        self.params = read_yaml(params_filepath)\n",
    "\n",
    "        create_directories([self.config.artifacts_root])\n",
    "\n",
    "    def get_data_transformation_config(self) -> DataTransformationConfig:\n",
    "        config=self.config.data_trasnformation\n",
    "        create_directories([config.root_dir])\n",
    "        logger.info(f\"Data Transformation config: {config}\")\n",
    "        logger.info(f\"Data Transformation params: {config.data_path}\")\n",
    "        logger.info(f\"{config.tokenizer_name}\")\n",
    "        logger.info(f\"Data Transformation root dir: {config.root_dir}\")\n",
    "        return DataTransformationConfig(\n",
    "            root_dir=config.root_dir,\n",
    "            data_path=config.data_path,\n",
    "            tokenizer_name=config.tokenizer_name\n",
    "        )"
   ]
  },
  {
   "cell_type": "code",
   "execution_count": 8,
   "id": "7ac1adcd",
   "metadata": {},
   "outputs": [
    {
     "name": "stderr",
     "output_type": "stream",
     "text": [
      "/Users/rajaanthonysamy/my_ml_projects/summarizer/TextSummarizer/venv/lib/python3.10/site-packages/tqdm/auto.py:21: TqdmWarning: IProgress not found. Please update jupyter and ipywidgets. See https://ipywidgets.readthedocs.io/en/stable/user_install.html\n",
      "  from .autonotebook import tqdm as notebook_tqdm\n",
      "None of PyTorch, TensorFlow >= 2.0, or Flax have been found. Models won't be available and only tokenizers, configuration and file/data utilities can be used.\n"
     ]
    }
   ],
   "source": [
    "import os\n",
    "from src.textSummarizer.logging import logger\n",
    "from transformers import AutoTokenizer\n",
    "from datasets import load_from_disk"
   ]
  },
  {
   "cell_type": "code",
   "execution_count": 9,
   "id": "a7d3762f",
   "metadata": {},
   "outputs": [],
   "source": [
    "class DataTransformation:\n",
    "    def __init__(self, config: DataTransformationConfig):\n",
    "        self.config = config\n",
    "        self.tokenizer= AutoTokenizer.from_pretrained(self.config.tokenizer_name)\n",
    "\n",
    "    def convert_examples_to_features(self,example_batch):\n",
    "        logger.info(f\"Converting examples to features\")\n",
    "        input_encodings = self.tokenizer(example_batch['dialogue'] , max_length = 1024, truncation = True )\n",
    "\n",
    "        with self.tokenizer.as_target_tokenizer():\n",
    "            target_encodings = self.tokenizer(example_batch['summary'], max_length = 128, truncation = True )\n",
    "\n",
    "        return {\n",
    "            'input_ids' : input_encodings['input_ids'],\n",
    "            'attention_mask': input_encodings['attention_mask'],\n",
    "            'labels': target_encodings['input_ids']\n",
    "        }\n",
    "    \n",
    "    def convert(self):\n",
    "        logger.info(f\"Loading dataset from {self.config.data_path}\")\n",
    "        dataset_samsum= load_from_disk(self.config.data_path)\n",
    "        logger.info(f\"Dataset loaded successfully with {len(dataset_samsum)} records\")\n",
    "        dataset_samsum_pt= dataset_samsum.map(\n",
    "            self.convert_examples_to_features,\n",
    "            batched=True\n",
    "        )\n",
    "        dataset_samsum_pt.save_to_disk(os.path.join(self.config.root_dir,\"samsum_dataset\"))"
   ]
  },
  {
   "cell_type": "code",
   "execution_count": 10,
   "id": "305a3e64",
   "metadata": {},
   "outputs": [
    {
     "name": "stdout",
     "output_type": "stream",
     "text": [
      "2025-06-18 20:58:44,319 - INFO - yaml file: config/config.yaml loaded successfully\n",
      "2025-06-18 20:58:44,320 - INFO - yaml file: params.yaml loaded successfully\n",
      "2025-06-18 20:58:44,321 - INFO - created directory at: artifacts\n",
      "2025-06-18 20:58:44,321 - INFO - created directory at: artifacts/data_transformation\n",
      "2025-06-18 20:58:44,321 - INFO - Data Transformation config: {'root_dir': 'artifacts/data_transformation', 'data_path': 'artifacts/data_ingestion/samsum_dataset', 'tokenizer_name': 'google/pegasus-cnn_dailymail'}\n",
      "2025-06-18 20:58:44,322 - INFO - Data Transformation params: artifacts/data_ingestion/samsum_dataset\n",
      "2025-06-18 20:58:44,322 - INFO - google/pegasus-cnn_dailymail\n",
      "2025-06-18 20:58:44,322 - INFO - Data Transformation root dir: artifacts/data_transformation\n",
      "2025-06-18 20:58:45,268 - INFO - Loading dataset from artifacts/data_ingestion/samsum_dataset\n",
      "2025-06-18 20:58:45,280 - INFO - Dataset loaded successfully with 3 records\n"
     ]
    },
    {
     "name": "stderr",
     "output_type": "stream",
     "text": [
      "Map:   0%|          | 0/14732 [00:00<?, ? examples/s]"
     ]
    },
    {
     "name": "stdout",
     "output_type": "stream",
     "text": [
      "2025-06-18 20:58:45,292 - INFO - Converting examples to features\n",
      "2025-06-18 20:58:45,380 - INFO - Converting examples to features\n"
     ]
    },
    {
     "name": "stderr",
     "output_type": "stream",
     "text": [
      "/Users/rajaanthonysamy/my_ml_projects/summarizer/TextSummarizer/venv/lib/python3.10/site-packages/transformers/tokenization_utils_base.py:3959: UserWarning: `as_target_tokenizer` is deprecated and will be removed in v5 of Transformers. You can tokenize your labels by using the argument `text_target` of the regular `__call__` method (either in the same call as your input texts if you use the same keyword arguments, or in a separate call.\n",
      "  warnings.warn(\n",
      "Map:  14%|█▎        | 2000/14732 [00:00<00:01, 10510.67 examples/s]"
     ]
    },
    {
     "name": "stdout",
     "output_type": "stream",
     "text": [
      "2025-06-18 20:58:45,482 - INFO - Converting examples to features\n",
      "2025-06-18 20:58:45,569 - INFO - Converting examples to features\n"
     ]
    },
    {
     "name": "stderr",
     "output_type": "stream",
     "text": [
      "Map:  27%|██▋       | 4000/14732 [00:00<00:00, 11031.91 examples/s]"
     ]
    },
    {
     "name": "stdout",
     "output_type": "stream",
     "text": [
      "2025-06-18 20:58:45,658 - INFO - Converting examples to features\n",
      "2025-06-18 20:58:45,735 - INFO - Converting examples to features\n"
     ]
    },
    {
     "name": "stderr",
     "output_type": "stream",
     "text": [
      "Map:  41%|████      | 6000/14732 [00:00<00:00, 11832.46 examples/s]"
     ]
    },
    {
     "name": "stdout",
     "output_type": "stream",
     "text": [
      "2025-06-18 20:58:45,812 - INFO - Converting examples to features\n",
      "2025-06-18 20:58:45,889 - INFO - Converting examples to features\n"
     ]
    },
    {
     "name": "stderr",
     "output_type": "stream",
     "text": [
      "Map:  54%|█████▍    | 8000/14732 [00:00<00:00, 12051.82 examples/s]"
     ]
    },
    {
     "name": "stdout",
     "output_type": "stream",
     "text": [
      "2025-06-18 20:58:45,973 - INFO - Converting examples to features\n",
      "2025-06-18 20:58:46,070 - INFO - Converting examples to features\n"
     ]
    },
    {
     "name": "stderr",
     "output_type": "stream",
     "text": [
      "Map:  68%|██████▊   | 10000/14732 [00:00<00:00, 11016.48 examples/s]"
     ]
    },
    {
     "name": "stdout",
     "output_type": "stream",
     "text": [
      "2025-06-18 20:58:46,182 - INFO - Converting examples to features\n",
      "2025-06-18 20:58:46,262 - INFO - Converting examples to features\n"
     ]
    },
    {
     "name": "stderr",
     "output_type": "stream",
     "text": [
      "Map:  81%|████████▏ | 12000/14732 [00:01<00:00, 11351.83 examples/s]"
     ]
    },
    {
     "name": "stdout",
     "output_type": "stream",
     "text": [
      "2025-06-18 20:58:46,348 - INFO - Converting examples to features\n",
      "2025-06-18 20:58:46,437 - INFO - Converting examples to features\n"
     ]
    },
    {
     "name": "stderr",
     "output_type": "stream",
     "text": [
      "Map:  95%|█████████▌| 14000/14732 [00:01<00:00, 11501.35 examples/s]"
     ]
    },
    {
     "name": "stdout",
     "output_type": "stream",
     "text": [
      "2025-06-18 20:58:46,517 - INFO - Converting examples to features\n"
     ]
    },
    {
     "name": "stderr",
     "output_type": "stream",
     "text": [
      "Map: 100%|██████████| 14732/14732 [00:01<00:00, 11402.41 examples/s]\n",
      "Map:   0%|          | 0/819 [00:00<?, ? examples/s]"
     ]
    },
    {
     "name": "stdout",
     "output_type": "stream",
     "text": [
      "2025-06-18 20:58:46,594 - INFO - Converting examples to features\n"
     ]
    },
    {
     "name": "stderr",
     "output_type": "stream",
     "text": [
      "Map: 100%|██████████| 819/819 [00:00<00:00, 11439.24 examples/s]\n",
      "Map:   0%|          | 0/818 [00:00<?, ? examples/s]"
     ]
    },
    {
     "name": "stdout",
     "output_type": "stream",
     "text": [
      "2025-06-18 20:58:46,676 - INFO - Converting examples to features\n"
     ]
    },
    {
     "name": "stderr",
     "output_type": "stream",
     "text": [
      "Map: 100%|██████████| 818/818 [00:00<00:00, 7971.07 examples/s]\n",
      "Saving the dataset (1/1 shards): 100%|██████████| 14732/14732 [00:00<00:00, 1429210.49 examples/s]\n",
      "Saving the dataset (1/1 shards): 100%|██████████| 819/819 [00:00<00:00, 274481.42 examples/s]\n",
      "Saving the dataset (1/1 shards): 100%|██████████| 818/818 [00:00<00:00, 378023.43 examples/s]\n"
     ]
    }
   ],
   "source": [
    "config=ConfigurationManager()\n",
    "config_data_transformation_config=config.get_data_transformation_config()\n",
    "data_transformation=DataTransformation(config_data_transformation_config)\n",
    "data_transformation.convert()"
   ]
  },
  {
   "cell_type": "code",
   "execution_count": 11,
   "id": "ee1bea07",
   "metadata": {},
   "outputs": [],
   "source": [
    "dataset_samsum = load_from_disk('artifacts/data_ingestion/samsum_dataset')"
   ]
  },
  {
   "cell_type": "code",
   "execution_count": 12,
   "id": "cf5a0adc",
   "metadata": {},
   "outputs": [
    {
     "data": {
      "text/plain": [
       "DatasetDict({\n",
       "    train: Dataset({\n",
       "        features: ['id', 'dialogue', 'summary'],\n",
       "        num_rows: 14732\n",
       "    })\n",
       "    test: Dataset({\n",
       "        features: ['id', 'dialogue', 'summary'],\n",
       "        num_rows: 819\n",
       "    })\n",
       "    validation: Dataset({\n",
       "        features: ['id', 'dialogue', 'summary'],\n",
       "        num_rows: 818\n",
       "    })\n",
       "})"
      ]
     },
     "execution_count": 12,
     "metadata": {},
     "output_type": "execute_result"
    }
   ],
   "source": [
    "dataset_samsum"
   ]
  },
  {
   "cell_type": "code",
   "execution_count": null,
   "id": "8fa54e08",
   "metadata": {},
   "outputs": [],
   "source": []
  }
 ],
 "metadata": {
  "kernelspec": {
   "display_name": "Python 3",
   "language": "python",
   "name": "python3"
  },
  "language_info": {
   "codemirror_mode": {
    "name": "ipython",
    "version": 3
   },
   "file_extension": ".py",
   "mimetype": "text/x-python",
   "name": "python",
   "nbconvert_exporter": "python",
   "pygments_lexer": "ipython3",
   "version": "3.10.18"
  }
 },
 "nbformat": 4,
 "nbformat_minor": 5
}
