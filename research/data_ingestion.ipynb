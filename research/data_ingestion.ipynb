{
 "cells": [
  {
   "cell_type": "code",
   "execution_count": 1,
   "id": "1870383a",
   "metadata": {},
   "outputs": [],
   "source": [
    "import os"
   ]
  },
  {
   "cell_type": "code",
   "execution_count": 2,
   "id": "dc69799f",
   "metadata": {},
   "outputs": [
    {
     "data": {
      "text/plain": [
       "'/Users/rajaanthonysamy/my_ml_projects/summarizer/TextSummarizer/research'"
      ]
     },
     "execution_count": 2,
     "metadata": {},
     "output_type": "execute_result"
    }
   ],
   "source": [
    "%pwd"
   ]
  },
  {
   "cell_type": "code",
   "execution_count": 3,
   "id": "74e7c2d4",
   "metadata": {},
   "outputs": [],
   "source": [
    "os.chdir(\"../\")"
   ]
  },
  {
   "cell_type": "code",
   "execution_count": 4,
   "id": "c2876130",
   "metadata": {},
   "outputs": [
    {
     "data": {
      "text/plain": [
       "'/Users/rajaanthonysamy/my_ml_projects/summarizer/TextSummarizer'"
      ]
     },
     "execution_count": 4,
     "metadata": {},
     "output_type": "execute_result"
    }
   ],
   "source": [
    "%pwd"
   ]
  },
  {
   "cell_type": "code",
   "execution_count": 5,
   "id": "179101d3",
   "metadata": {},
   "outputs": [],
   "source": [
    "from dataclasses import dataclass\n",
    "from pathlib import Path\n",
    "\n",
    "\n",
    "@dataclass\n",
    "class DataIngestionConfig:\n",
    "    \"\"\"\n",
    "    Data Ingestion Configuration\n",
    "    \"\"\"\n",
    "    root_dir: Path \n",
    "    source_url: Path\n",
    "    local_data_file: Path\n",
    "    unzip_dir: Path"
   ]
  },
  {
   "cell_type": "code",
   "execution_count": 6,
   "id": "3c4f3f09",
   "metadata": {},
   "outputs": [],
   "source": [
    "from src.textSummarizer.constants import *\n",
    "from src.textSummarizer.utils.common import read_yaml, create_directories"
   ]
  },
  {
   "cell_type": "code",
   "execution_count": 7,
   "id": "27fae2bc",
   "metadata": {},
   "outputs": [],
   "source": [
    "class ConfigurationManager:\n",
    "    def __init__(self,\n",
    "                 config_path=CONFIG_FILE_PATH,\n",
    "                 params_filepath=PARAMS_FILE_PATH):\n",
    "        self.config = read_yaml(config_path)\n",
    "        self.params = read_yaml(params_filepath)\n",
    "\n",
    "        create_directories([self.config.artifacts_root])\n",
    "        logger.info(f\"Configuration file loaded: {config_path}\")\n",
    "        logger.info(f\"Parameters file loaded: {params_filepath}\")\n",
    "    \n",
    "    def get_data_ingestion_config(self) -> DataIngestionConfig:\n",
    "        config = self.config.data_ingestion\n",
    "        create_directories([config.root_dir])\n",
    "        \n",
    "        data_ingestion_config = DataIngestionConfig(\n",
    "            root_dir=config.root_dir,\n",
    "            source_url=config.source_url,\n",
    "            local_data_file=config.local_data_file,\n",
    "            unzip_dir=config.unzip_dir\n",
    "        )\n",
    "        logger.info(f\"Data Ingestion Config: {data_ingestion_config}\")\n",
    "        \n",
    "        return data_ingestion_config"
   ]
  },
  {
   "cell_type": "code",
   "execution_count": 8,
   "id": "662e37cc",
   "metadata": {},
   "outputs": [],
   "source": [
    "import os \n",
    "import urllib.request as request\n",
    "import zipfile\n",
    "from src.textSummarizer.logging import logger\n",
    "\n"
   ]
  },
  {
   "cell_type": "code",
   "execution_count": 9,
   "id": "ef89678e",
   "metadata": {},
   "outputs": [],
   "source": [
    "import os \n",
    "import urllib.request as request\n",
    "import zipfile\n",
    "from src.textSummarizer.logging import logger\n",
    "\n",
    "\n",
    "class DataIngestion:\n",
    "    def __init__(self,config:DataIngestionConfig):\n",
    "        self.config=config\n",
    "\n",
    "    def download_file(self):\n",
    "        logger.info(\"self.config.local_data_file: %s\", self.config.local_data_file)\n",
    "        destination = str(self.config.local_data_file)\n",
    "        logger.info(f\"Downloading file from {self.config.source_url} to {destination}\")\n",
    "        if not os.path.exists(destination):\n",
    "            url=url = str(self.config.source_url)\n",
    "            filename, headers = request.urlretrieve(\n",
    "                url =url,\n",
    "                filename = destination\n",
    "            )\n",
    "            logger.info(f\"File is downloaded\")\n",
    "        else:\n",
    "            logger.info(f\"File already exits\")\n",
    "\n",
    "    def extract_zip_file(self):\n",
    "        \"\"\"\n",
    "        zip_file_path: str\n",
    "        Extracts the zip file into the data directory\n",
    "        Function returns None\n",
    "        \"\"\"\n",
    "        unzip_path = self.config.unzip_dir\n",
    "        os.makedirs(unzip_path, exist_ok=True)\n",
    "        with zipfile.ZipFile(self.config.local_data_file, 'r') as zip_ref:\n",
    "            zip_ref.extractall(unzip_path)\n",
    "\n",
    "    \n"
   ]
  },
  {
   "cell_type": "code",
   "execution_count": 10,
   "id": "63308215",
   "metadata": {},
   "outputs": [
    {
     "name": "stdout",
     "output_type": "stream",
     "text": [
      "2025-06-17 20:40:05,995 - INFO - yaml file: config/config.yaml loaded successfully\n",
      "2025-06-17 20:40:05,996 - INFO - yaml file: params.yaml loaded successfully\n",
      "2025-06-17 20:40:05,996 - INFO - created directory at: artifacts\n",
      "2025-06-17 20:40:05,997 - INFO - Configuration file loaded: config/config.yaml\n",
      "2025-06-17 20:40:05,997 - INFO - Parameters file loaded: params.yaml\n",
      "2025-06-17 20:40:05,997 - INFO - yaml file: config/config.yaml loaded successfully\n",
      "2025-06-17 20:40:05,998 - INFO - yaml file: params.yaml loaded successfully\n",
      "2025-06-17 20:40:05,998 - INFO - created directory at: artifacts\n",
      "2025-06-17 20:40:05,998 - INFO - Configuration file loaded: config/config.yaml\n",
      "2025-06-17 20:40:05,998 - INFO - Parameters file loaded: params.yaml\n",
      "2025-06-17 20:40:05,999 - INFO - created directory at: artifacts/data_ingestion\n",
      "2025-06-17 20:40:06,000 - INFO - Data Ingestion Config: DataIngestionConfig(root_dir='artifacts/data_ingestion', source_url='https://github.com/krishnaik06/datasets/raw/refs/heads/main/summarizer-data.zip', local_data_file='artifacts/data_ingestion/data.zip', unzip_dir='artifacts/data_ingestion')\n",
      "🧪 Source URL from config: https://github.com/krishnaik06/datasets/raw/refs/heads/main/summarizer-data.zip\n",
      "2025-06-17 20:40:06,000 - INFO - created directory at: artifacts/data_ingestion\n",
      "2025-06-17 20:40:06,000 - INFO - Data Ingestion Config: DataIngestionConfig(root_dir='artifacts/data_ingestion', source_url='https://github.com/krishnaik06/datasets/raw/refs/heads/main/summarizer-data.zip', local_data_file='artifacts/data_ingestion/data.zip', unzip_dir='artifacts/data_ingestion')\n",
      "2025-06-17 20:40:06,000 - INFO - self.config.local_data_file: artifacts/data_ingestion/data.zip\n",
      "2025-06-17 20:40:06,001 - INFO - Downloading file from https://github.com/krishnaik06/datasets/raw/refs/heads/main/summarizer-data.zip to artifacts/data_ingestion/data.zip\n",
      "2025-06-17 20:40:10,578 - INFO - File is downloaded\n"
     ]
    }
   ],
   "source": [
    "config=ConfigurationManager()\n",
    "config = ConfigurationManager()\n",
    "print(\"🧪 Source URL from config:\", config.get_data_ingestion_config().source_url)\n",
    "\n",
    "data_ingestion_config = config.get_data_ingestion_config()\n",
    "data_ingestion = DataIngestion(config=data_ingestion_config)\n",
    "data_ingestion.download_file()\n",
    "data_ingestion.extract_zip_file()"
   ]
  },
  {
   "cell_type": "code",
   "execution_count": null,
   "id": "aaee80bf",
   "metadata": {},
   "outputs": [],
   "source": []
  },
  {
   "cell_type": "code",
   "execution_count": null,
   "id": "0fd4bfda",
   "metadata": {},
   "outputs": [],
   "source": []
  },
  {
   "cell_type": "code",
   "execution_count": null,
   "id": "a4fbc45b",
   "metadata": {},
   "outputs": [],
   "source": []
  }
 ],
 "metadata": {
  "kernelspec": {
   "display_name": "Python 3",
   "language": "python",
   "name": "python3"
  },
  "language_info": {
   "codemirror_mode": {
    "name": "ipython",
    "version": 3
   },
   "file_extension": ".py",
   "mimetype": "text/x-python",
   "name": "python",
   "nbconvert_exporter": "python",
   "pygments_lexer": "ipython3",
   "version": "3.10.18"
  }
 },
 "nbformat": 4,
 "nbformat_minor": 5
}
